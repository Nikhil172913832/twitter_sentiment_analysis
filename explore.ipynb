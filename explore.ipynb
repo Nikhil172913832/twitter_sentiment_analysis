{
 "cells": [
  {
   "cell_type": "code",
   "execution_count": 44,
   "id": "08682285-c98f-49c9-b79a-016dbc796470",
   "metadata": {},
   "outputs": [
    {
     "name": "stderr",
     "output_type": "stream",
     "text": [
      "[nltk_data] Downloading package punkt_tab to\n",
      "[nltk_data]     /home/darklord/nltk_data...\n",
      "[nltk_data]   Package punkt_tab is already up-to-date!\n",
      "[nltk_data] Downloading package stopwords to\n",
      "[nltk_data]     /home/darklord/nltk_data...\n",
      "[nltk_data]   Package stopwords is already up-to-date!\n",
      "[nltk_data] Downloading package averaged_perceptron_tagger_eng to\n",
      "[nltk_data]     /home/darklord/nltk_data...\n",
      "[nltk_data]   Package averaged_perceptron_tagger_eng is already up-to-\n",
      "[nltk_data]       date!\n",
      "[nltk_data] Downloading package wordnet to /home/darklord/nltk_data...\n",
      "[nltk_data]   Package wordnet is already up-to-date!\n"
     ]
    }
   ],
   "source": [
    "import pandas as pd\n",
    "import string\n",
    "import nltk\n",
    "nltk.download('punkt_tab')\n",
    "nltk.download('stopwords')\n",
    "nltk.download('averaged_perceptron_tagger_eng')\n",
    "nltk.download('wordnet')\n",
    "from nltk.corpus import stopwords\n",
    "from nltk import pos_tag\n",
    "from nltk.tokenize import word_tokenize\n",
    "from nltk.stem import WordNetLemmatizer\n",
    "lemmatizer = WordNetLemmatizer()\n",
    "from sklearn.model_selection import train_test_split\n",
    "from imblearn.over_sampling import RandomOverSampler\n",
    "from sklearn.ensemble import RandomForestClassifier\n",
    "import numpy as np"
   ]
  },
  {
   "cell_type": "code",
   "execution_count": 3,
   "id": "cea54c60-12da-4adb-829c-83456239281e",
   "metadata": {},
   "outputs": [
    {
     "name": "stdout",
     "output_type": "stream",
     "text": [
      "Index(['id', 'label', 'tweet'], dtype='object')\n"
     ]
    }
   ],
   "source": [
    "df = pd.read_csv('twitter.csv')\n",
    "print(df.columns)"
   ]
  },
  {
   "cell_type": "code",
   "execution_count": 4,
   "id": "0292bc6d-804a-4245-ba32-0abe48b87840",
   "metadata": {},
   "outputs": [],
   "source": [
    "vocabulary = set()\n",
    "def pre_process(text):\n",
    "    global count\n",
    "    text = text.strip()\n",
    "    result = \"\"\n",
    "    for char in text:\n",
    "        if (char.isalpha() and char in string.ascii_letters) or char == ' ':\n",
    "            result += char\n",
    "    word_tokens = word_tokenize(result)\n",
    "    stop_words = set(stopwords.words('english'))\n",
    "    filtered_sentence = [w for w in word_tokens if not w.lower() in stop_words]\n",
    "    pos_tags = pos_tag(filtered_sentence)\n",
    "    lemmatized_words = [\n",
    "        lemmatizer.lemmatize(word, pos='v') if tag.startswith('V')  \n",
    "        else lemmatizer.lemmatize(word, pos='n') if tag.startswith('N')\n",
    "        else lemmatizer.lemmatize(word, pos='a') if tag.startswith('J')\n",
    "        else word\n",
    "        for word, tag in pos_tags\n",
    "    ]\n",
    "    update_vocabulary(lemmatized_words)\n",
    "    return ' '.join(lemmatized_words)\n",
    "def update_vocabulary(tokens):\n",
    "    global vocabulary\n",
    "    vocabulary.update(tokens)\n",
    "def create_vocab():\n",
    "    global vocabulary\n",
    "    vocabulary = list(vocabulary)\n",
    "    dict1 = {}\n",
    "    for i in range(1, len(vocabulary)+1):\n",
    "        dict1.update({vocabulary[i-1]:i})\n",
    "    return dict1\n",
    "def tokenize(text):\n",
    "    global vocab\n",
    "    word_tokens = word_tokenize(text)\n",
    "    return [vocab[w] for w in word_tokens]\n",
    "def standardize(text):\n",
    "    global vocab\n",
    "    if len(text) < 9:\n",
    "        while len(text) != 9:\n",
    "            text.append(vocab['<PAD>'])\n",
    "    return text[:9]\n",
    "    "
   ]
  },
  {
   "cell_type": "code",
   "execution_count": 5,
   "id": "b2ab310c-3f6e-475a-ab8f-1392a9fd6bef",
   "metadata": {
    "scrolled": true
   },
   "outputs": [],
   "source": [
    "df['tweet'] = df['tweet'].apply(pre_process)\n",
    "vocab = create_vocab()\n",
    "temp = len(vocab)\n",
    "df['tweet'] = df['tweet'].apply(tokenize)\n",
    "vocab.update({\"<OOV>\":0, \"<PAD>\": temp})\n",
    "df['tweet'] = df['tweet'].apply(standardize)"
   ]
  },
  {
   "cell_type": "code",
   "execution_count": 6,
   "id": "2f90e0e8-10d0-4522-8b80-0f84cbebd4c5",
   "metadata": {},
   "outputs": [
    {
     "data": {
      "text/plain": [
       "<BarContainer object of 2 artists>"
      ]
     },
     "execution_count": 6,
     "metadata": {},
     "output_type": "execute_result"
    },
    {
     "data": {
      "image/png": "[encoded data removed]",
      "text/plain": [
       "<Figure size 640x480 with 1 Axes>"
      ]
     },
     "metadata": {},
     "output_type": "display_data"
    }
   ],
   "source": [
    "count = {}\n",
    "for label in df['label']:\n",
    "    if label in count:\n",
    "        count[label]+=1\n",
    "    else:\n",
    "        count[label]=1\n",
    "import matplotlib.pyplot as plt\n",
    "x = count.keys()\n",
    "y = count.values()\n",
    "plt.bar(x, y)\n"
   ]
  },
  {
   "cell_type": "code",
   "execution_count": 7,
   "id": "22a454e4-9234-4092-9714-d8c7715895f2",
   "metadata": {},
   "outputs": [],
   "source": [
    "ros = RandomOverSampler(sampling_strategy='auto', random_state = 0)"
   ]
  },
  {
   "cell_type": "code",
   "execution_count": 8,
   "id": "fc0667ce-9bf1-42ba-999b-56f7c2aefec1",
   "metadata": {},
   "outputs": [
    {
     "name": "stdout",
     "output_type": "stream",
     "text": [
      "Index(['id', 'label', 'tweet'], dtype='object')\n"
     ]
    }
   ],
   "source": [
    "print(df.columns)"
   ]
  },
  {
   "cell_type": "code",
   "execution_count": 106,
   "id": "e6c757d7-58b4-4e74-80ef-792dcd370991",
   "metadata": {},
   "outputs": [],
   "source": [
    "X_data = df.filter(['tweet'], axis=1)\n",
    "y_data = df.filter(['label'], axis=1)"
   ]
  },
  {
   "cell_type": "code",
   "execution_count": 107,
   "id": "6a62c2c0-4b4b-4b1e-8b20-950dde9176fb",
   "metadata": {},
   "outputs": [],
   "source": [
    "X_res, y_res = ros.fit_resample(X_data, y_data)\n",
    "X_res = X_res.values\n",
    "y_res = y_res.values.ravel()"
   ]
  },
  {
   "cell_type": "code",
   "execution_count": 121,
   "id": "76555931-50d3-4755-97e2-a05ab0a8e373",
   "metadata": {},
   "outputs": [],
   "source": [
    "X_res = np.array([np.array(w[0]) for w in X_res])"
   ]
  },
  {
   "cell_type": "code",
   "execution_count": 122,
   "id": "1cf311f9-4483-4a9e-8d7c-fc20afe6fc70",
   "metadata": {},
   "outputs": [],
   "source": [
    "X_train, X_test, y_train, y_test = train_test_split(X_res, y_res, test_size = 0.1,random_state= 0, shuffle=True)"
   ]
  },
  {
   "cell_type": "code",
   "execution_count": 123,
   "id": "2541f927-353b-4a3b-807f-c65818bd4f69",
   "metadata": {},
   "outputs": [],
   "source": [
    "clf = RandomForestClassifier(n_estimators = 100)"
   ]
  },
  {
   "cell_type": "code",
   "execution_count": 124,
   "id": "45d6d9dc-a65a-4739-bd88-991a0a472577",
   "metadata": {},
   "outputs": [
    {
     "name": "stdout",
     "output_type": "stream",
     "text": [
      "(53496, 9)\n"
     ]
    }
   ],
   "source": [
    "print(X_train.shape)"
   ]
  },
  {
   "cell_type": "code",
   "execution_count": 125,
   "id": "2e20a327-b886-4407-bde5-9bfda43d5e0e",
   "metadata": {},
   "outputs": [
    {
     "name": "stdout",
     "output_type": "stream",
     "text": [
      "Training Accuracy: 99.96\n",
      "Test Accuracy: 99.88\n"
     ]
    }
   ],
   "source": [
    "clf.fit(X_train, y_train)\n",
    "training_accuracy = clf.score(X_train, y_train)\n",
    "test_accuracy = clf.score(X_test, y_test)\n",
    "print(f\"Training Accuracy: {training_accuracy*100:.2f}\")\n",
    "print(f\"Test Accuracy: {test_accuracy*100:.2f}\")"
   ]
  },
  {
   "cell_type": "code",
   "execution_count": 126,
   "id": "b8bf5c0c-8f43-4273-aa40-ae42cdd01c5e",
   "metadata": {},
   "outputs": [],
   "source": [
    "from sklearn.metrics import confusion_matrix\n",
    "y_pred = clf.predict(X_test)"
   ]
  },
  {
   "cell_type": "code",
   "execution_count": 127,
   "id": "08d5b51b-fc04-4c4e-b077-1179af215c34",
   "metadata": {},
   "outputs": [],
   "source": [
    "cm = confusion_matrix(y_test, y_pred)"
   ]
  },
  {
   "cell_type": "code",
   "execution_count": 128,
   "id": "afda9c6f-43aa-47de-a769-c0510b74ddb7",
   "metadata": {},
   "outputs": [
    {
     "data": {
      "image/png": "[encoded data removed]",
      "text/plain": [
       "<Figure size 800x600 with 2 Axes>"
      ]
     },
     "metadata": {},
     "output_type": "display_data"
    }
   ],
   "source": [
    "import seaborn as sns\n",
    "plt.figure(figsize=(8, 6))\n",
    "sns.heatmap(cm, annot=True, fmt=\"d\", cmap=\"Blues\", xticklabels=['Class 0', 'Class 1'], yticklabels=['Class 0', 'Class 1'])\n",
    "plt.title(\"Confusion Matrix\")\n",
    "plt.xlabel(\"Predicted\")\n",
    "plt.ylabel(\"Actual\")\n",
    "plt.show()"
   ]
  },
  {
   "cell_type": "code",
   "execution_count": 132,
   "id": "d3f7e42e-080e-40e4-aade-f7fe98e90567",
   "metadata": {},
   "outputs": [],
   "source": [
    "def test_pre_process(text):\n",
    "    text = text.strip()\n",
    "    result = \"\"\n",
    "    for char in text:\n",
    "        if (char.isalpha() and char in string.ascii_letters) or char == ' ':\n",
    "            result += char\n",
    "    word_tokens = word_tokenize(result)\n",
    "    stop_words = set(stopwords.words('english'))\n",
    "    filtered_sentence = [w for w in word_tokens if not w.lower() in stop_words]\n",
    "    pos_tags = pos_tag(filtered_sentence)\n",
    "    lemmatized_words = [\n",
    "        lemmatizer.lemmatize(word, pos='v') if tag.startswith('V')  \n",
    "        else lemmatizer.lemmatize(word, pos='n') if tag.startswith('N')\n",
    "        else lemmatizer.lemmatize(word, pos='a') if tag.startswith('J')\n",
    "        else word\n",
    "        for word, tag in pos_tags\n",
    "    ]\n",
    "    return ' '.join(lemmatized_words)\n",
    "def test_tokenize(text):\n",
    "    global vocab\n",
    "    word_tokens = word_tokenize(text)\n",
    "    return [vocab[w] if w in vocab else vocab[\"<OOV>\"] for w in word_tokens]\n",
    "def standardize(text):\n",
    "    global vocab\n",
    "    if len(text) < 9:\n",
    "        while len(text) != 9:\n",
    "            text.append(vocab['<PAD>'])\n",
    "    return text[:9]\n",
    "text = \"no comment!  in #australia   #opkillingbay #seashepherd #helpcovedolphins #thecove  #helpcovedolphins\"\n",
    "text = test_pre_process(text)\n",
    "text = test_tokenize(text)\n",
    "text = standardize(text)\n",
    "text = np.array(text).reshape(1, -1)"
   ]
  },
  {
   "cell_type": "code",
   "execution_count": 133,
   "id": "35b448c3-5933-42fa-9c15-4273d3ffe1e6",
   "metadata": {},
   "outputs": [
    {
     "name": "stdout",
     "output_type": "stream",
     "text": [
      "[[14772 16750 17513  6972  5287 10990  5287 36208 36208]]\n"
     ]
    }
   ],
   "source": [
    "print(text)"
   ]
  },
  {
   "cell_type": "code",
   "execution_count": 134,
   "id": "6a3182ce-b6e1-465e-a1df-c7d52d262799",
   "metadata": {},
   "outputs": [
    {
     "name": "stdout",
     "output_type": "stream",
     "text": [
      "[1]\n"
     ]
    }
   ],
   "source": [
    "y_pred = clf.predict(text)\n",
    "print(y_pred)"
   ]
  },
  {
   "cell_type": "code",
   "execution_count": null,
   "id": "6c586c3a-cfad-44a8-a7cb-49610f0d6275",
   "metadata": {},
   "outputs": [],
   "source": []
  }
 ],
 "metadata": {
  "kernelspec": {
   "display_name": "Python 3 (ipykernel)",
   "language": "python",
   "name": "python3"
  },
  "language_info": {
   "codemirror_mode": {
    "name": "ipython",
    "version": 3
   },
   "file_extension": ".py",
   "mimetype": "text/x-python",
   "name": "python",
   "nbconvert_exporter": "python",
   "pygments_lexer": "ipython3",
   "version": "3.12.3"
  }
 },
 "nbformat": 4,
 "nbformat_minor": 5
}
